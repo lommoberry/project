{
 "cells": [
  {
   "cell_type": "markdown",
   "id": "92f0b479",
   "metadata": {},
   "source": [
    "# BRFSS PROJECT"
   ]
  },
  {
   "cell_type": "markdown",
   "id": "88622468",
   "metadata": {},
   "source": [
    "## Prediction Question\n",
    "How do socioeconomic and demographic factors influence self-reported health outcomes, mental health, and access to preventive care?"
   ]
  },
  {
   "cell_type": "markdown",
   "id": "86cf19f4",
   "metadata": {},
   "source": [
    "## Code"
   ]
  },
  {
   "cell_type": "markdown",
   "id": "4b184e46",
   "metadata": {},
   "source": [
    "### Imports"
   ]
  },
  {
   "cell_type": "code",
   "execution_count": null,
   "id": "95d555f5",
   "metadata": {},
   "outputs": [],
   "source": []
  },
  {
   "cell_type": "markdown",
   "id": "349eb660",
   "metadata": {},
   "source": [
    "### blah"
   ]
  },
  {
   "cell_type": "markdown",
   "id": "abd9bc72",
   "metadata": {},
   "source": [
    "##  Key Results and Focused Discussion\n",
    "\\add"
   ]
  },
  {
   "cell_type": "markdown",
   "id": "719bb0e7",
   "metadata": {},
   "source": [
    "## Exposition\n",
    "\n",
    "What do results mean\n"
   ]
  },
  {
   "cell_type": "markdown",
   "id": "0621d8ed",
   "metadata": {},
   "source": [
    "## Criticisms and Concerns\n",
    "add later"
   ]
  },
  {
   "cell_type": "markdown",
   "id": "8b84c4cc",
   "metadata": {},
   "source": [
    "## Visualizations"
   ]
  },
  {
   "cell_type": "code",
   "execution_count": null,
   "id": "e17e60aa",
   "metadata": {},
   "outputs": [],
   "source": []
  }
 ],
 "metadata": {
  "language_info": {
   "name": "python"
  }
 },
 "nbformat": 4,
 "nbformat_minor": 5
}
